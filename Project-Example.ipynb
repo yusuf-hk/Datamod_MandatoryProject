{
 "cells": [
  {
   "cell_type": "markdown",
   "metadata": {},
   "source": [
    "Please read your project instructions in the project description file.\n",
    "This is an example for STUDENT-COURSE example."
   ]
  },
  {
   "cell_type": "code",
   "execution_count": 1,
   "metadata": {
    "scrolled": true
   },
   "outputs": [
    {
     "name": "stderr",
     "output_type": "stream",
     "text": [
      "C:\\Anaconda3\\lib\\site-packages\\IPython\\config.py:13: ShimWarning: The `IPython.config` package has been deprecated since IPython 4.0. You should import from traitlets.config instead.\n",
      "  \"You should import from traitlets.config instead.\", ShimWarning)\n",
      "C:\\Anaconda3\\lib\\site-packages\\IPython\\utils\\traitlets.py:5: UserWarning: IPython.utils.traitlets has moved to a top-level traitlets package.\n",
      "  warn(\"IPython.utils.traitlets has moved to a top-level traitlets package.\")\n"
     ]
    }
   ],
   "source": [
    "%load_ext sql"
   ]
  },
  {
   "cell_type": "markdown",
   "metadata": {},
   "source": [
    "Example:\n",
    "\n",
    "Table: student\n",
    "\n",
    "Description: Information of students are stored in this table, such as name and email."
   ]
  },
  {
   "cell_type": "code",
   "execution_count": 2,
   "metadata": {},
   "outputs": [
    {
     "data": {
      "text/plain": [
       "'Connected: None@test.db'"
      ]
     },
     "execution_count": 2,
     "metadata": {},
     "output_type": "execute_result"
    }
   ],
   "source": [
    "%sql sqlite:///test.db"
   ]
  },
  {
   "cell_type": "code",
   "execution_count": 3,
   "metadata": {},
   "outputs": [
    {
     "name": "stdout",
     "output_type": "stream",
     "text": [
      "Done.\n",
      "Done.\n"
     ]
    },
    {
     "data": {
      "text/plain": [
       "[]"
      ]
     },
     "execution_count": 3,
     "metadata": {},
     "output_type": "execute_result"
    }
   ],
   "source": [
    "%%sql\n",
    "DROP TABLE IF EXISTS student;\n",
    "CREATE TABLE student (\n",
    "    student_id varchar(255) NOT NULL UNIQUE,\n",
    "    first_name varchar(255) NOT NULL DEFAULT '',\n",
    "    last_name varchar(255) NOT NULL DEFAULT '',\n",
    "    address varchar(255),\n",
    "    gender char(2),\n",
    "    PRIMARY KEY (student_id)\n",
    ");"
   ]
  },
  {
   "cell_type": "code",
   "execution_count": 4,
   "metadata": {},
   "outputs": [
    {
     "name": "stdout",
     "output_type": "stream",
     "text": [
      "Done.\n"
     ]
    },
    {
     "data": {
      "text/html": [
       "<table>\n",
       "    <tr>\n",
       "        <th>cid</th>\n",
       "        <th>name</th>\n",
       "        <th>type</th>\n",
       "        <th>notnull</th>\n",
       "        <th>dflt_value</th>\n",
       "        <th>pk</th>\n",
       "    </tr>\n",
       "    <tr>\n",
       "        <td>0</td>\n",
       "        <td>student_id</td>\n",
       "        <td>varchar(255)</td>\n",
       "        <td>1</td>\n",
       "        <td>None</td>\n",
       "        <td>1</td>\n",
       "    </tr>\n",
       "    <tr>\n",
       "        <td>1</td>\n",
       "        <td>first_name</td>\n",
       "        <td>varchar(255)</td>\n",
       "        <td>1</td>\n",
       "        <td>&#x27;&#x27;</td>\n",
       "        <td>0</td>\n",
       "    </tr>\n",
       "    <tr>\n",
       "        <td>2</td>\n",
       "        <td>last_name</td>\n",
       "        <td>varchar(255)</td>\n",
       "        <td>1</td>\n",
       "        <td>&#x27;&#x27;</td>\n",
       "        <td>0</td>\n",
       "    </tr>\n",
       "    <tr>\n",
       "        <td>3</td>\n",
       "        <td>address</td>\n",
       "        <td>varchar(255)</td>\n",
       "        <td>0</td>\n",
       "        <td>None</td>\n",
       "        <td>0</td>\n",
       "    </tr>\n",
       "    <tr>\n",
       "        <td>4</td>\n",
       "        <td>gender</td>\n",
       "        <td>char(2)</td>\n",
       "        <td>0</td>\n",
       "        <td>None</td>\n",
       "        <td>0</td>\n",
       "    </tr>\n",
       "</table>"
      ],
      "text/plain": [
       "[(0, 'student_id', 'varchar(255)', 1, None, 1),\n",
       " (1, 'first_name', 'varchar(255)', 1, \"''\", 0),\n",
       " (2, 'last_name', 'varchar(255)', 1, \"''\", 0),\n",
       " (3, 'address', 'varchar(255)', 0, None, 0),\n",
       " (4, 'gender', 'char(2)', 0, None, 0)]"
      ]
     },
     "execution_count": 4,
     "metadata": {},
     "output_type": "execute_result"
    }
   ],
   "source": [
    "%sql PRAGMA table_info(student);"
   ]
  },
  {
   "cell_type": "code",
   "execution_count": 5,
   "metadata": {},
   "outputs": [
    {
     "name": "stdout",
     "output_type": "stream",
     "text": [
      "4 rows affected.\n"
     ]
    },
    {
     "data": {
      "text/plain": [
       "[]"
      ]
     },
     "execution_count": 5,
     "metadata": {},
     "output_type": "execute_result"
    }
   ],
   "source": [
    "%%sql\n",
    "INSERT INTO student (student_id, first_name, last_name, address, gender)\n",
    "VALUES ('s485730','Silje', 'Thomassen', 'Ilabakken 96 1481 HAGAN', 'M'),\n",
    "('s129483','Matilde', 'Lavik', 'Vienvegen 219 2318 HAMAR', 'M'),\n",
    "('s583048','Emma', 'Sagen', 'Nordheimveien 235 1472 FJELLHAMAR', 'F'),\n",
    "('s128473','Maryam', 'Gulbrandsen', 'Blunkeslettveien 43 1809 ASKIM', 'F');"
   ]
  },
  {
   "cell_type": "code",
   "execution_count": 6,
   "metadata": {},
   "outputs": [
    {
     "name": "stdout",
     "output_type": "stream",
     "text": [
      "Done.\n"
     ]
    },
    {
     "data": {
      "text/html": [
       "<table>\n",
       "    <tr>\n",
       "        <th>student_id</th>\n",
       "        <th>first_name</th>\n",
       "        <th>last_name</th>\n",
       "        <th>address</th>\n",
       "        <th>gender</th>\n",
       "    </tr>\n",
       "    <tr>\n",
       "        <td>s485730</td>\n",
       "        <td>Silje</td>\n",
       "        <td>Thomassen</td>\n",
       "        <td>Ilabakken 96 1481 HAGAN</td>\n",
       "        <td>M</td>\n",
       "    </tr>\n",
       "    <tr>\n",
       "        <td>s129483</td>\n",
       "        <td>Matilde</td>\n",
       "        <td>Lavik</td>\n",
       "        <td>Vienvegen 219 2318 HAMAR</td>\n",
       "        <td>M</td>\n",
       "    </tr>\n",
       "    <tr>\n",
       "        <td>s583048</td>\n",
       "        <td>Emma</td>\n",
       "        <td>Sagen</td>\n",
       "        <td>Nordheimveien 235 1472 FJELLHAMAR</td>\n",
       "        <td>F</td>\n",
       "    </tr>\n",
       "    <tr>\n",
       "        <td>s128473</td>\n",
       "        <td>Maryam</td>\n",
       "        <td>Gulbrandsen</td>\n",
       "        <td>Blunkeslettveien 43 1809 ASKIM</td>\n",
       "        <td>F</td>\n",
       "    </tr>\n",
       "</table>"
      ],
      "text/plain": [
       "[('s485730', 'Silje', 'Thomassen', 'Ilabakken 96 1481 HAGAN', 'M'),\n",
       " ('s129483', 'Matilde', 'Lavik', 'Vienvegen 219 2318 HAMAR', 'M'),\n",
       " ('s583048', 'Emma', 'Sagen', 'Nordheimveien 235 1472 FJELLHAMAR', 'F'),\n",
       " ('s128473', 'Maryam', 'Gulbrandsen', 'Blunkeslettveien 43 1809 ASKIM', 'F')]"
      ]
     },
     "execution_count": 6,
     "metadata": {},
     "output_type": "execute_result"
    }
   ],
   "source": [
    "%sql select * from student;"
   ]
  },
  {
   "cell_type": "code",
   "execution_count": 7,
   "metadata": {},
   "outputs": [
    {
     "name": "stdout",
     "output_type": "stream",
     "text": [
      "Done.\n",
      "Done.\n"
     ]
    },
    {
     "data": {
      "text/plain": [
       "[]"
      ]
     },
     "execution_count": 7,
     "metadata": {},
     "output_type": "execute_result"
    }
   ],
   "source": [
    "%%sql\n",
    "DROP TABLE IF EXISTS course;\n",
    "CREATE TABLE course (\n",
    "    course_id varchar(255) NOT NULL UNIQUE,\n",
    "    name varchar(255) NOT NULL DEFAULT '',\n",
    "    teacher varchar(255) NOT NULL DEFAULT '',\n",
    "    department varchar(255) NOT NULL DEFAULT '',\n",
    "    credits float(2,1) NOT NULL DEFAULT 0.0,\n",
    "    PRIMARY KEY (course_id)\n",
    ");"
   ]
  },
  {
   "cell_type": "code",
   "execution_count": 8,
   "metadata": {},
   "outputs": [
    {
     "name": "stdout",
     "output_type": "stream",
     "text": [
      "Done.\n"
     ]
    },
    {
     "data": {
      "text/html": [
       "<table>\n",
       "    <tr>\n",
       "        <th>cid</th>\n",
       "        <th>name</th>\n",
       "        <th>type</th>\n",
       "        <th>notnull</th>\n",
       "        <th>dflt_value</th>\n",
       "        <th>pk</th>\n",
       "    </tr>\n",
       "    <tr>\n",
       "        <td>0</td>\n",
       "        <td>course_id</td>\n",
       "        <td>varchar(255)</td>\n",
       "        <td>1</td>\n",
       "        <td>None</td>\n",
       "        <td>1</td>\n",
       "    </tr>\n",
       "    <tr>\n",
       "        <td>1</td>\n",
       "        <td>name</td>\n",
       "        <td>varchar(255)</td>\n",
       "        <td>1</td>\n",
       "        <td>&#x27;&#x27;</td>\n",
       "        <td>0</td>\n",
       "    </tr>\n",
       "    <tr>\n",
       "        <td>2</td>\n",
       "        <td>teacher</td>\n",
       "        <td>varchar(255)</td>\n",
       "        <td>1</td>\n",
       "        <td>&#x27;&#x27;</td>\n",
       "        <td>0</td>\n",
       "    </tr>\n",
       "    <tr>\n",
       "        <td>3</td>\n",
       "        <td>department</td>\n",
       "        <td>varchar(255)</td>\n",
       "        <td>1</td>\n",
       "        <td>&#x27;&#x27;</td>\n",
       "        <td>0</td>\n",
       "    </tr>\n",
       "    <tr>\n",
       "        <td>4</td>\n",
       "        <td>credits</td>\n",
       "        <td>float(2,1)</td>\n",
       "        <td>1</td>\n",
       "        <td>0.0</td>\n",
       "        <td>0</td>\n",
       "    </tr>\n",
       "</table>"
      ],
      "text/plain": [
       "[(0, 'course_id', 'varchar(255)', 1, None, 1),\n",
       " (1, 'name', 'varchar(255)', 1, \"''\", 0),\n",
       " (2, 'teacher', 'varchar(255)', 1, \"''\", 0),\n",
       " (3, 'department', 'varchar(255)', 1, \"''\", 0),\n",
       " (4, 'credits', 'float(2,1)', 1, '0.0', 0)]"
      ]
     },
     "execution_count": 8,
     "metadata": {},
     "output_type": "execute_result"
    }
   ],
   "source": [
    "%sql PRAGMA table_info(course);"
   ]
  },
  {
   "cell_type": "code",
   "execution_count": 9,
   "metadata": {},
   "outputs": [
    {
     "name": "stdout",
     "output_type": "stream",
     "text": [
      "3 rows affected.\n"
     ]
    },
    {
     "data": {
      "text/plain": [
       "[]"
      ]
     },
     "execution_count": 9,
     "metadata": {},
     "output_type": "execute_result"
    }
   ],
   "source": [
    "%%sql\n",
    "INSERT INTO course (course_id, name, teacher, department, credits)\n",
    "VALUES ('IFUD1123','Big data', 'Nils Tesdal', 'Department of Computer Science', 5),\n",
    "('IFUD1048','C++ for Programmers', 'Ole Christian Eidheim', 'Department of Computer Science', 5),\n",
    "('TDAT3023','3D Computer Graphics', 'Tomas Holt', 'Department of Computer Science', 15);"
   ]
  },
  {
   "cell_type": "code",
   "execution_count": 10,
   "metadata": {},
   "outputs": [
    {
     "name": "stdout",
     "output_type": "stream",
     "text": [
      "Done.\n"
     ]
    },
    {
     "data": {
      "text/html": [
       "<table>\n",
       "    <tr>\n",
       "        <th>course_id</th>\n",
       "        <th>name</th>\n",
       "        <th>teacher</th>\n",
       "        <th>department</th>\n",
       "        <th>credits</th>\n",
       "    </tr>\n",
       "    <tr>\n",
       "        <td>IFUD1123</td>\n",
       "        <td>Big data</td>\n",
       "        <td>Nils Tesdal</td>\n",
       "        <td>Department of Computer Science</td>\n",
       "        <td>5.0</td>\n",
       "    </tr>\n",
       "    <tr>\n",
       "        <td>IFUD1048</td>\n",
       "        <td>C++ for Programmers</td>\n",
       "        <td>Ole Christian Eidheim</td>\n",
       "        <td>Department of Computer Science</td>\n",
       "        <td>5.0</td>\n",
       "    </tr>\n",
       "    <tr>\n",
       "        <td>TDAT3023</td>\n",
       "        <td>3D Computer Graphics</td>\n",
       "        <td>Tomas Holt</td>\n",
       "        <td>Department of Computer Science</td>\n",
       "        <td>15.0</td>\n",
       "    </tr>\n",
       "</table>"
      ],
      "text/plain": [
       "[('IFUD1123', 'Big data', 'Nils Tesdal', 'Department of Computer Science', 5.0),\n",
       " ('IFUD1048', 'C++ for Programmers', 'Ole Christian Eidheim', 'Department of Computer Science', 5.0),\n",
       " ('TDAT3023', '3D Computer Graphics', 'Tomas Holt', 'Department of Computer Science', 15.0)]"
      ]
     },
     "execution_count": 10,
     "metadata": {},
     "output_type": "execute_result"
    }
   ],
   "source": [
    "%sql select * from course;"
   ]
  },
  {
   "cell_type": "code",
   "execution_count": 11,
   "metadata": {},
   "outputs": [
    {
     "name": "stdout",
     "output_type": "stream",
     "text": [
      "Done.\n",
      "Done.\n"
     ]
    },
    {
     "data": {
      "text/plain": [
       "[]"
      ]
     },
     "execution_count": 11,
     "metadata": {},
     "output_type": "execute_result"
    }
   ],
   "source": [
    "%%sql\n",
    "DROP TABLE IF EXISTS course_enrollment;\n",
    "CREATE TABLE course_enrollment (\n",
    "    student_id varchar(255) NOT NULL,\n",
    "    course_id varchar(255) NOT NULL,\n",
    "    grade float(2,2) NOT NULL DEFAULT 0.0,\n",
    "    PRIMARY KEY (student_id, course_id),\n",
    "    FOREIGN KEY (student_id) REFERENCES student(student_id),\n",
    "    FOREIGN KEY (course_id) REFERENCES course(course_id)\n",
    ");"
   ]
  },
  {
   "cell_type": "code",
   "execution_count": 12,
   "metadata": {},
   "outputs": [
    {
     "name": "stdout",
     "output_type": "stream",
     "text": [
      "Done.\n"
     ]
    },
    {
     "data": {
      "text/html": [
       "<table>\n",
       "    <tr>\n",
       "        <th>cid</th>\n",
       "        <th>name</th>\n",
       "        <th>type</th>\n",
       "        <th>notnull</th>\n",
       "        <th>dflt_value</th>\n",
       "        <th>pk</th>\n",
       "    </tr>\n",
       "    <tr>\n",
       "        <td>0</td>\n",
       "        <td>student_id</td>\n",
       "        <td>varchar(255)</td>\n",
       "        <td>1</td>\n",
       "        <td>None</td>\n",
       "        <td>1</td>\n",
       "    </tr>\n",
       "    <tr>\n",
       "        <td>1</td>\n",
       "        <td>course_id</td>\n",
       "        <td>varchar(255)</td>\n",
       "        <td>1</td>\n",
       "        <td>None</td>\n",
       "        <td>2</td>\n",
       "    </tr>\n",
       "    <tr>\n",
       "        <td>2</td>\n",
       "        <td>grade</td>\n",
       "        <td>float(2,2)</td>\n",
       "        <td>1</td>\n",
       "        <td>0.0</td>\n",
       "        <td>0</td>\n",
       "    </tr>\n",
       "</table>"
      ],
      "text/plain": [
       "[(0, 'student_id', 'varchar(255)', 1, None, 1),\n",
       " (1, 'course_id', 'varchar(255)', 1, None, 2),\n",
       " (2, 'grade', 'float(2,2)', 1, '0.0', 0)]"
      ]
     },
     "execution_count": 12,
     "metadata": {},
     "output_type": "execute_result"
    }
   ],
   "source": [
    "%sql PRAGMA table_info(course_enrollment);"
   ]
  },
  {
   "cell_type": "code",
   "execution_count": 13,
   "metadata": {},
   "outputs": [
    {
     "name": "stdout",
     "output_type": "stream",
     "text": [
      "8 rows affected.\n"
     ]
    },
    {
     "data": {
      "text/plain": [
       "[]"
      ]
     },
     "execution_count": 13,
     "metadata": {},
     "output_type": "execute_result"
    }
   ],
   "source": [
    "%%sql\n",
    "INSERT INTO course_enrollment (student_id, course_id, grade)\n",
    "VALUES ('s485730','IFUD1123', 70),\n",
    "('s485730','IFUD1048', 80),\n",
    "('s129483','IFUD1048', 90),\n",
    "('s129483','IFUD1123', 100),\n",
    "('s583048','TDAT3023', 35.5),\n",
    "('s583048','IFUD1123', 70),\n",
    "('s128473','IFUD1048', 85),\n",
    "('s128473','TDAT3023', 90);"
   ]
  },
  {
   "cell_type": "code",
   "execution_count": 14,
   "metadata": {},
   "outputs": [
    {
     "name": "stdout",
     "output_type": "stream",
     "text": [
      "Done.\n"
     ]
    },
    {
     "data": {
      "text/html": [
       "<table>\n",
       "    <tr>\n",
       "        <th>student_id</th>\n",
       "        <th>course_id</th>\n",
       "        <th>grade</th>\n",
       "    </tr>\n",
       "    <tr>\n",
       "        <td>s485730</td>\n",
       "        <td>IFUD1123</td>\n",
       "        <td>70.0</td>\n",
       "    </tr>\n",
       "    <tr>\n",
       "        <td>s485730</td>\n",
       "        <td>IFUD1048</td>\n",
       "        <td>80.0</td>\n",
       "    </tr>\n",
       "    <tr>\n",
       "        <td>s129483</td>\n",
       "        <td>IFUD1048</td>\n",
       "        <td>90.0</td>\n",
       "    </tr>\n",
       "    <tr>\n",
       "        <td>s129483</td>\n",
       "        <td>IFUD1123</td>\n",
       "        <td>100.0</td>\n",
       "    </tr>\n",
       "    <tr>\n",
       "        <td>s583048</td>\n",
       "        <td>TDAT3023</td>\n",
       "        <td>35.5</td>\n",
       "    </tr>\n",
       "    <tr>\n",
       "        <td>s583048</td>\n",
       "        <td>IFUD1123</td>\n",
       "        <td>70.0</td>\n",
       "    </tr>\n",
       "    <tr>\n",
       "        <td>s128473</td>\n",
       "        <td>IFUD1048</td>\n",
       "        <td>85.0</td>\n",
       "    </tr>\n",
       "    <tr>\n",
       "        <td>s128473</td>\n",
       "        <td>TDAT3023</td>\n",
       "        <td>90.0</td>\n",
       "    </tr>\n",
       "</table>"
      ],
      "text/plain": [
       "[('s485730', 'IFUD1123', 70.0),\n",
       " ('s485730', 'IFUD1048', 80.0),\n",
       " ('s129483', 'IFUD1048', 90.0),\n",
       " ('s129483', 'IFUD1123', 100.0),\n",
       " ('s583048', 'TDAT3023', 35.5),\n",
       " ('s583048', 'IFUD1123', 70.0),\n",
       " ('s128473', 'IFUD1048', 85.0),\n",
       " ('s128473', 'TDAT3023', 90.0)]"
      ]
     },
     "execution_count": 14,
     "metadata": {},
     "output_type": "execute_result"
    }
   ],
   "source": [
    "%sql select * from course_enrollment;"
   ]
  },
  {
   "cell_type": "markdown",
   "metadata": {
    "collapsed": true
   },
   "source": [
    "average grade for each courses"
   ]
  },
  {
   "cell_type": "code",
   "execution_count": 15,
   "metadata": {},
   "outputs": [
    {
     "name": "stdout",
     "output_type": "stream",
     "text": [
      "Done.\n"
     ]
    },
    {
     "data": {
      "text/html": [
       "<table>\n",
       "    <tr>\n",
       "        <th>course_id</th>\n",
       "        <th>sum(grade)/count(grade)</th>\n",
       "    </tr>\n",
       "    <tr>\n",
       "        <td>IFUD1048</td>\n",
       "        <td>85.0</td>\n",
       "    </tr>\n",
       "    <tr>\n",
       "        <td>IFUD1123</td>\n",
       "        <td>80.0</td>\n",
       "    </tr>\n",
       "    <tr>\n",
       "        <td>TDAT3023</td>\n",
       "        <td>62.75</td>\n",
       "    </tr>\n",
       "</table>"
      ],
      "text/plain": [
       "[('IFUD1048', 85.0), ('IFUD1123', 80.0), ('TDAT3023', 62.75)]"
      ]
     },
     "execution_count": 15,
     "metadata": {},
     "output_type": "execute_result"
    }
   ],
   "source": [
    "%%sql\n",
    "select course_id, sum(grade)/count(grade) from course_enrollment group by course_id;"
   ]
  },
  {
   "cell_type": "markdown",
   "metadata": {},
   "source": [
    "average grade for each courses, with course name"
   ]
  },
  {
   "cell_type": "code",
   "execution_count": 16,
   "metadata": {},
   "outputs": [
    {
     "name": "stdout",
     "output_type": "stream",
     "text": [
      "Done.\n"
     ]
    },
    {
     "data": {
      "text/html": [
       "<table>\n",
       "    <tr>\n",
       "        <th>name</th>\n",
       "        <th>avg</th>\n",
       "    </tr>\n",
       "    <tr>\n",
       "        <td>C++ for Programmers</td>\n",
       "        <td>85.0</td>\n",
       "    </tr>\n",
       "    <tr>\n",
       "        <td>Big data</td>\n",
       "        <td>80.0</td>\n",
       "    </tr>\n",
       "    <tr>\n",
       "        <td>3D Computer Graphics</td>\n",
       "        <td>62.75</td>\n",
       "    </tr>\n",
       "</table>"
      ],
      "text/plain": [
       "[('C++ for Programmers', 85.0),\n",
       " ('Big data', 80.0),\n",
       " ('3D Computer Graphics', 62.75)]"
      ]
     },
     "execution_count": 16,
     "metadata": {},
     "output_type": "execute_result"
    }
   ],
   "source": [
    "%%sql\n",
    "select a.name, b.avg\n",
    "from course a join\n",
    "(\n",
    "    select course_id, sum(grade)/count(grade) avg\n",
    "    from course_enrollment \n",
    "    group by course_id\n",
    ") b on a.course_id=b.course_id;\n"
   ]
  },
  {
   "cell_type": "markdown",
   "metadata": {},
   "source": [
    "What courses are chosen by Emma Sagen? Show the course name."
   ]
  },
  {
   "cell_type": "code",
   "execution_count": 17,
   "metadata": {},
   "outputs": [
    {
     "name": "stdout",
     "output_type": "stream",
     "text": [
      "Done.\n"
     ]
    },
    {
     "data": {
      "text/html": [
       "<table>\n",
       "    <tr>\n",
       "        <th>name</th>\n",
       "    </tr>\n",
       "    <tr>\n",
       "        <td>3D Computer Graphics</td>\n",
       "    </tr>\n",
       "    <tr>\n",
       "        <td>Big data</td>\n",
       "    </tr>\n",
       "</table>"
      ],
      "text/plain": [
       "[('3D Computer Graphics',), ('Big data',)]"
      ]
     },
     "execution_count": 17,
     "metadata": {},
     "output_type": "execute_result"
    }
   ],
   "source": [
    "%%sql\n",
    "select a.name\n",
    "from course a join\n",
    "course_enrollment b\n",
    "on a.course_id=b.course_id join\n",
    "student c\n",
    "on b.student_id=c.student_id\n",
    "where c.first_name='Emma' and c.last_name='Sagen';"
   ]
  },
  {
   "cell_type": "markdown",
   "metadata": {},
   "source": [
    "Calculate the credits obtained by each students. One student will get the credit of one course if the grade of that course is above 40."
   ]
  },
  {
   "cell_type": "code",
   "execution_count": 18,
   "metadata": {},
   "outputs": [
    {
     "name": "stdout",
     "output_type": "stream",
     "text": [
      "Done.\n"
     ]
    },
    {
     "data": {
      "text/html": [
       "<table>\n",
       "    <tr>\n",
       "        <th>student_id</th>\n",
       "        <th>first_name</th>\n",
       "        <th>last_name</th>\n",
       "        <th>sum(c.credits)</th>\n",
       "    </tr>\n",
       "    <tr>\n",
       "        <td>s128473</td>\n",
       "        <td>Maryam</td>\n",
       "        <td>Gulbrandsen</td>\n",
       "        <td>20.0</td>\n",
       "    </tr>\n",
       "    <tr>\n",
       "        <td>s129483</td>\n",
       "        <td>Matilde</td>\n",
       "        <td>Lavik</td>\n",
       "        <td>10.0</td>\n",
       "    </tr>\n",
       "    <tr>\n",
       "        <td>s485730</td>\n",
       "        <td>Silje</td>\n",
       "        <td>Thomassen</td>\n",
       "        <td>10.0</td>\n",
       "    </tr>\n",
       "    <tr>\n",
       "        <td>s583048</td>\n",
       "        <td>Emma</td>\n",
       "        <td>Sagen</td>\n",
       "        <td>5.0</td>\n",
       "    </tr>\n",
       "</table>"
      ],
      "text/plain": [
       "[('s128473', 'Maryam', 'Gulbrandsen', 20.0),\n",
       " ('s129483', 'Matilde', 'Lavik', 10.0),\n",
       " ('s485730', 'Silje', 'Thomassen', 10.0),\n",
       " ('s583048', 'Emma', 'Sagen', 5.0)]"
      ]
     },
     "execution_count": 18,
     "metadata": {},
     "output_type": "execute_result"
    }
   ],
   "source": [
    "%%sql\n",
    "select a.student_id, a.first_name, a.last_name, sum(c.credits)\n",
    "from student a join course_enrollment b\n",
    "on a.student_id=b.student_id join course c\n",
    "on b.course_id=c.course_id\n",
    "where b.grade>=40\n",
    "group by a.student_id, a.first_name, a.last_name"
   ]
  },
  {
   "cell_type": "code",
   "execution_count": null,
   "metadata": {
    "collapsed": true
   },
   "outputs": [],
   "source": []
  }
 ],
 "metadata": {
  "kernelspec": {
   "display_name": "Python 3",
   "language": "python",
   "name": "python3"
  },
  "language_info": {
   "codemirror_mode": {
    "name": "ipython",
    "version": 3
   },
   "file_extension": ".py",
   "mimetype": "text/x-python",
   "name": "python",
   "nbconvert_exporter": "python",
   "pygments_lexer": "ipython3",
   "version": "3.6.2"
  }
 },
 "nbformat": 4,
 "nbformat_minor": 2
}
